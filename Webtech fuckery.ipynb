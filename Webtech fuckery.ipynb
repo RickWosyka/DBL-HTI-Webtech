{
 "cells": [
  {
   "cell_type": "code",
   "execution_count": 1,
   "metadata": {
    "collapsed": true
   },
   "outputs": [],
   "source": [
    "import numpy as np\n",
    "\n",
    "from bokeh.models import ColumnDataSource, DataRange1d, Plot, LinearAxis, Grid\n",
    "from bokeh.models.glyphs import AnnularWedge, Ellipse\n",
    "from bokeh.io import curdoc, show\n",
    "import queue"
   ]
  },
  {
   "cell_type": "code",
   "execution_count": 2,
   "metadata": {},
   "outputs": [
    {
     "ename": "SyntaxError",
     "evalue": "invalid syntax (<ipython-input-2-3d472392170b>, line 6)",
     "output_type": "error",
     "traceback": [
      "\u001b[1;36m  File \u001b[1;32m\"<ipython-input-2-3d472392170b>\"\u001b[1;36m, line \u001b[1;32m6\u001b[0m\n\u001b[1;33m    n.rang = #relative part of range parent according to leaves subtree\u001b[0m\n\u001b[1;37m                                                                       ^\u001b[0m\n\u001b[1;31mSyntaxError\u001b[0m\u001b[1;31m:\u001b[0m invalid syntax\n"
     ]
    }
   ],
   "source": [
    "def sunburstf(nodes, total=np.pi * 2, level = 0, ax=None):\n",
    "    ax = ax\n",
    "    width = 0.5\n",
    "    \n",
    "    for n in nodes:\n",
    "        n.rang = #relative part of range parent according to leaves subtree\n",
    "        glyph = AnnularWedge(x='x', y='y', inner_radius=(level * width), outer_radius=(inner_radius+width),\n",
    "                             start_angle=right_bound, end_angle=(right_bound+rang))"
   ]
  },
  {
   "cell_type": "code",
   "execution_count": null,
   "metadata": {
    "collapsed": true
   },
   "outputs": [],
   "source": [
    "N = 9\n",
    "x = np.linspace(-2, 2, N)\n",
    "y = x**2\n",
    "r = x/12.0+0.4\n",
    "\n",
    "source = ColumnDataSource(dict(x=x, y=y, r=r))\n",
    "\n",
    "xdr = DataRange1d()\n",
    "ydr = DataRange1d()\n",
    "\n",
    "plot = Plot(\n",
    "    title=None, x_range=xdr, y_range=ydr, plot_width=300, plot_height=300,\n",
    "    h_symmetry=False, v_symmetry=False, min_border=0, toolbar_location=None)\n",
    "\n",
    "glyph = AnnularWedge(x=\"x\", y=\"y\", inner_radius=0.2, outer_radius=\"r\", start_angle=0, end_angle=4, fill_color=\"#8888ee\")\n",
    "plot.add_glyph(source, glyph)\n",
    "\n",
    "xaxis = LinearAxis()\n",
    "plot.add_layout(xaxis, 'below')\n",
    "\n",
    "yaxis = LinearAxis()\n",
    "plot.add_layout(yaxis, 'left')\n",
    "\n",
    "plot.add_layout(Grid(dimension=0, ticker=xaxis.ticker))\n",
    "plot.add_layout(Grid(dimension=1, ticker=yaxis.ticker))\n",
    "\n",
    "curdoc().add_root(plot)\n",
    "\n",
    "show(plot)"
   ]
  },
  {
   "cell_type": "code",
   "execution_count": 18,
   "metadata": {},
   "outputs": [
    {
     "data": {
      "text/plain": [
       "6"
      ]
     },
     "execution_count": 18,
     "metadata": {},
     "output_type": "execute_result"
    }
   ],
   "source": [
    "p=0\n",
    "for i in range(1,4):\n",
    "    p = p+i\n",
    "p"
   ]
  },
  {
   "cell_type": "code",
   "execution_count": 28,
   "metadata": {},
   "outputs": [],
   "source": [
    "xdr = DataRange1d()\n",
    "ydr = DataRange1d()\n",
    "data = {'x': [1,2,3,4], 'y': [1,2,3,4]}\n",
    "source = ColumnDataSource(data)\n",
    "plot = Plot(\n",
    "    title=None, x_range=xdr, y_range=ydr, plot_width=300, plot_height=300,\n",
    "    h_symmetry=False, v_symmetry=False, min_border=0, toolbar_location=None)\n",
    "glyph = AnnularWedge(x='x', y='y', inner_radius=0.2, outer_radius=3, start_angle=0, end_angle=4)\n",
    "plot.add_glyph(source, glyph)\n",
    "curdoc().add_root(plot)\n",
    "show(test_plot)"
   ]
  },
  {
   "cell_type": "code",
   "execution_count": null,
   "metadata": {},
   "outputs": [],
   "source": [
    "sun_que = queue.Queue()\n",
    "b = [4,5,7,9]\n",
    "sun_que.put(b)\n",
    "if len(sun_que.get()) == 4:\n",
    "    sun_que.get(timeout=10)"
   ]
  },
  {
   "cell_type": "code",
   "execution_count": null,
   "metadata": {
    "collapsed": true
   },
   "outputs": [],
   "source": [
    "#create a queue of all the nodes sorted on level\n",
    "#use this queue for BFS to create visualization\n",
    "for i in levels:\n",
    "    for n in nodes:\n",
    "        if level[n] == i:\n",
    "            que.put(n)"
   ]
  },
  {
   "cell_type": "code",
   "execution_count": null,
   "metadata": {
    "collapsed": true
   },
   "outputs": [],
   "source": [
    "#add a glyph for every node to the sunburst\n",
    "n_old\n",
    "while not que.empty():\n",
    "    n = que.get()\n",
    "    glyph = AnnularWedge(x='x', y='y', inner_radius=(n.level * width), outer_radius=((n.level * width) + width),\n",
    "                             start_angle=n.right_bound, end_angle=(n.right_bound+n.range))\n",
    "    n_old = n"
   ]
  },
  {
   "cell_type": "code",
   "execution_count": 3,
   "metadata": {},
   "outputs": [],
   "source": [
    "class Node:\n",
    "    def __init__(self, level, children, leaves_subtree):\n",
    "        self.level = level\n",
    "        self.children = []\n",
    "        self.leaves_subtree = leaves_subtree\n",
    "    width = 1\n",
    "    range = 0\n",
    "    right_bound = 0\n",
    "    "
   ]
  },
  {
   "cell_type": "code",
   "execution_count": 4,
   "metadata": {
    "collapsed": true
   },
   "outputs": [],
   "source": [
    "def Set_parent(root):\n",
    "    for n in root.children:\n",
    "        n.parent = root\n",
    "        Set_parent(n)"
   ]
  },
  {
   "cell_type": "code",
   "execution_count": 5,
   "metadata": {
    "collapsed": true
   },
   "outputs": [],
   "source": [
    "def Sunburst(root):\n",
    "    source = ColumnDataSource()\n",
    "    plot = Plot(title=None, plot_width=300, plot_height=300,\n",
    "                h_symmetry=False, v_symmetry=False, min_border=0, toolbar_location=None)\n",
    "    xaxis = LinearAxis()\n",
    "    yaxis = LinearAxis()\n",
    "#------------------------------------------------------------------------------------------------------\n",
    "    root.range = np.pi * 2\n",
    "    root.right_bound = 0\n",
    "    glyph = Ellipse(x=10, y=10, width=root.width, height=root.width)\n",
    "    plot.add_glyph(source, glyph)\n",
    "    DFS_visit(root)\n",
    "    show(plot)\n",
    "    "
   ]
  },
  {
   "cell_type": "code",
   "execution_count": 6,
   "metadata": {},
   "outputs": [],
   "source": [
    "#Still have to insert root\n",
    "def DFS_visit(node):\n",
    "    count = 0\n",
    "    n_old = None\n",
    "    for n in node.children:\n",
    "        if count == 0:\n",
    "            right_bound = n.parent.right_bound\n",
    "            for n in children:\n",
    "                n.range = (n.leaves_subtree/ n.parent.leaves_subtree) * n.parent.range\n",
    "        else:\n",
    "            right_bound = n_old.left_bound\n",
    "        glyph = AnnularWedge(x=10, y=10, inner_radius=(n.level * width), outer_radius=((n.level * width) + width),\n",
    "                             start_angle=n.right_bound, end_angle=(n.right_bound + n.range))\n",
    "        plot.add_glyph(source, glyph)\n",
    "        n_old = n\n",
    "        count += 1\n",
    "        DFS_visit(n)"
   ]
  },
  {
   "cell_type": "code",
   "execution_count": 7,
   "metadata": {},
   "outputs": [],
   "source": [
    "m = Node(3, None, 1)\n",
    "n = Node(3, None, 1)\n",
    "l = Node(2, [m], 1)\n",
    "f = Node(2, None, 1)\n",
    "g = Node(2, None, 1)\n",
    "h = Node(2, [n], 1)\n",
    "i = Node(2, None, 1)\n",
    "j = Node(2, None, 1)\n",
    "k = Node(2, None, 1)\n",
    "e = Node(1, [l,k,j], 3)\n",
    "b = Node(1, [f], 1)\n",
    "c = Node(1, [g, h], 2)\n",
    "d = Node(1, [i], 1)\n",
    "a = Node(0, [b,c,d,e], 7)"
   ]
  },
  {
   "cell_type": "code",
   "execution_count": 8,
   "metadata": {},
   "outputs": [],
   "source": [
    "Set_parent(a)"
   ]
  },
  {
   "cell_type": "code",
   "execution_count": 9,
   "metadata": {},
   "outputs": [],
   "source": [
    "Sunburst(a)"
   ]
  },
  {
   "cell_type": "code",
   "execution_count": null,
   "metadata": {},
   "outputs": [],
   "source": [
    "DFS_visit(a)"
   ]
  },
  {
   "cell_type": "code",
   "execution_count": null,
   "metadata": {},
   "outputs": [],
   "source": [
    "derp = [1,1,1,1,1,1]\n",
    "enumerate(derp)\n",
    "t=0\n",
    "for d in derp:\n",
    "    if enumerate(derp) == 2:\n",
    "        t = t*d\n",
    "    else:\n",
    "        t = t+d\n",
    "        \n",
    "t"
   ]
  }
 ],
 "metadata": {
  "kernelspec": {
   "display_name": "Python 3",
   "language": "python",
   "name": "python3"
  },
  "language_info": {
   "codemirror_mode": {
    "name": "ipython",
    "version": 3
   },
   "file_extension": ".py",
   "mimetype": "text/x-python",
   "name": "python",
   "nbconvert_exporter": "python",
   "pygments_lexer": "ipython3",
   "version": "3.6.1"
  }
 },
 "nbformat": 4,
 "nbformat_minor": 2
}
