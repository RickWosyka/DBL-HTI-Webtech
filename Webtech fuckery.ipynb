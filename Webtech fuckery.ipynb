{
 "cells": [
  {
   "cell_type": "code",
   "execution_count": 1,
   "metadata": {
    "collapsed": true
   },
   "outputs": [],
   "source": [
    "import numpy as np\n",
    "\n",
    "from bokeh.models import ColumnDataSource, DataRange1d, Plot, LinearAxis, Grid\n",
    "from bokeh.models.glyphs import AnnularWedge, Ellipse\n",
    "from bokeh.io import curdoc, show\n",
    "import queue"
   ]
  },
  {
   "cell_type": "code",
   "execution_count": 2,
   "metadata": {
    "collapsed": true
   },
   "outputs": [],
   "source": [
    "class Node:\n",
    "    def __init__(self, level, children, leaves_subtree):\n",
    "        self.level = level\n",
    "        self.children = children\n",
    "        self.leaves_subtree = leaves_subtree\n",
    "        self.width = 1\n",
    "        self.range = 1\n",
    "        self.right_bound = 0\n",
    "        self.left_bound = self.right_bound + self.range\n",
    "        self.parent = None\n",
    "    "
   ]
  },
  {
   "cell_type": "code",
   "execution_count": 3,
   "metadata": {
    "collapsed": true
   },
   "outputs": [],
   "source": [
    "def Set_parent(root):\n",
    "    if root.children:\n",
    "        for n in root.children:\n",
    "            n.parent = root\n",
    "            Set_parent(n)"
   ]
  },
  {
   "cell_type": "code",
   "execution_count": 4,
   "metadata": {
    "collapsed": true
   },
   "outputs": [],
   "source": [
    "def Sunburst(root):\n",
    "    root.range = np.pi * 2\n",
    "    root.right_bound = 0\n",
    "    glyph = Ellipse(x=10, y=10, width=root.width * 2, height=root.width * 2)\n",
    "    plot.add_glyph(source, glyph)\n",
    "    DFS_visit(root)    "
   ]
  },
  {
   "cell_type": "code",
   "execution_count": 5,
   "metadata": {
    "collapsed": true
   },
   "outputs": [],
   "source": [
    "def DFS_visit(node):\n",
    "    if node.children:\n",
    "        count = 0\n",
    "        n_old = None\n",
    "        for n in node.children:\n",
    "            if count == 0:\n",
    "                n.right_bound = n.parent.right_bound\n",
    "                for n in node.children:\n",
    "                    n.range = (n.leaves_subtree/ n.parent.leaves_subtree) * n.parent.range\n",
    "            else:\n",
    "                n.right_bound = n_old.left_bound\n",
    "            n.left_bound = n.right_bound + n.range\n",
    "            glyph = AnnularWedge(x=10, y=10, inner_radius=(n.level * n.width), outer_radius=((n.level * n.width) + n.width),\n",
    "                                 start_angle=n.right_bound, end_angle=(n.right_bound + n.range))\n",
    "            plot.add_glyph(source, glyph)\n",
    "            n_old = n\n",
    "            count += 1\n",
    "            DFS_visit(n)"
   ]
  },
  {
   "cell_type": "code",
   "execution_count": 6,
   "metadata": {
    "collapsed": true
   },
   "outputs": [],
   "source": [
    "m = Node(3, None, 1)\n",
    "n = Node(3, None, 1)\n",
    "l = Node(2, [m], 1)\n",
    "f = Node(2, None, 1)\n",
    "g = Node(2, None, 1)\n",
    "h = Node(2, [n], 1)\n",
    "i = Node(2, None, 1)\n",
    "j = Node(2, None, 1)\n",
    "k = Node(2, None, 1)\n",
    "e = Node(1, [l,k,j], 3)\n",
    "b = Node(1, [f], 1)\n",
    "c = Node(1, [g, h], 2)\n",
    "d = Node(1, [i], 1)\n",
    "a = Node(0, [b,c,d,e], 7)"
   ]
  },
  {
   "cell_type": "code",
   "execution_count": 7,
   "metadata": {},
   "outputs": [],
   "source": [
    "Set_parent(a)"
   ]
  },
  {
   "cell_type": "code",
   "execution_count": 8,
   "metadata": {
    "collapsed": true
   },
   "outputs": [],
   "source": [
    "source = ColumnDataSource()\n",
    "\n",
    "xdr = DataRange1d(start=5, end=15)\n",
    "ydr = DataRange1d(start=5, end=15)\n",
    "\n",
    "plot = Plot(title=None, x_range=xdr, y_range=ydr, plot_width=300, plot_height=300,\n",
    "           h_symmetry=False, v_symmetry=False, min_border=0, toolbar_location=None)\n",
    "\n",
    "Sunburst(a)\n",
    "\n",
    "xaxis = LinearAxis()\n",
    "plot.add_layout(xaxis, 'below')\n",
    "\n",
    "yaxis = LinearAxis()\n",
    "plot.add_layout(yaxis, 'left')\n",
    "\n",
    "plot.add_layout(Grid(dimension=0, ticker=xaxis.ticker))\n",
    "plot.add_layout(Grid(dimension=1, ticker=yaxis.ticker))\n",
    "\n",
    "curdoc().add_root(plot)\n",
    "\n",
    "show(plot)"
   ]
  }
 ],
 "metadata": {
  "kernelspec": {
   "display_name": "Python 3",
   "language": "python",
   "name": "python3"
  },
  "language_info": {
   "codemirror_mode": {
    "name": "ipython",
    "version": 3
   },
   "file_extension": ".py",
   "mimetype": "text/x-python",
   "name": "python",
   "nbconvert_exporter": "python",
   "pygments_lexer": "ipython3",
   "version": "3.6.1"
  }
 },
 "nbformat": 4,
 "nbformat_minor": 2
}
