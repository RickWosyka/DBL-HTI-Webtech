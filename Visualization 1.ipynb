{
 "cells": [
  {
   "cell_type": "code",
   "execution_count": 1,
   "metadata": {},
   "outputs": [],
   "source": [
    "import numpy as np\n",
    "\n",
    "from bokeh.models import ColumnDataSource, DataRange1d, HoverTool\n",
    "from bokeh.models.glyphs import AnnularWedge\n",
    "from bokeh.io import curdoc, show\n",
    "from bokeh.plotting import figure\n",
    "from bokeh.colors import RGB\n",
    "import queue\n"
   ]
  },
  {
   "cell_type": "code",
   "execution_count": 2,
   "metadata": {},
   "outputs": [],
   "source": [
    "def DFS_visit(node):\n",
    "    if node.children:\n",
    "        maxDepth = 4\n",
    "        count = 0\n",
    "        n_old = None\n",
    "        rgb = (255/ maxDepth)\n",
    "        for n in node.children:\n",
    "            n.color = (255, rgb * n.level, 0)\n",
    "            if not n.seen:\n",
    "                if count == 0:\n",
    "                    n.right_bound = n.parent.right_bound\n",
    "                    for p in node.children:\n",
    "                        p.range = (p.leaves_subtree/ p.parent.leaves_subtree) * p.parent.range\n",
    "                else:\n",
    "                    n.right_bound = n_old.left_bound\n",
    "                n.left_bound = n.right_bound + n.range\n",
    "                glyph = AnnularWedge(x=10, y=10, inner_radius=(n.level * n.width), outer_radius=((n.level * n.width) + n.width),\n",
    "                                     start_angle=n.right_bound, end_angle=n.left_bound, fill_color= n.color, line_color='#ffffff', line_width= 1, fill_alpha= 0.7)\n",
    "                plot.add_glyph(source, glyph)\n",
    "                n_old = n\n",
    "                count += 1\n",
    "                DFS_visit(n)\n",
    "            n.seen = True"
   ]
  },
  {
   "cell_type": "code",
   "execution_count": 3,
   "metadata": {
    "collapsed": true
   },
   "outputs": [],
   "source": [
    "class Node:\n",
    "    def __init__(self, level, children, leaves_subtree, color):\n",
    "        self.color = color\n",
    "        self.level = level\n",
    "        self.children = children\n",
    "        self.leaves_subtree = leaves_subtree\n",
    "        self.width = 1\n",
    "        self.range = 1\n",
    "        self.right_bound = 0\n",
    "        self.left_bound = 0\n",
    "        self.parent = None\n",
    "        self.seen = False"
   ]
  },
  {
   "cell_type": "code",
   "execution_count": 4,
   "metadata": {
    "collapsed": true
   },
   "outputs": [],
   "source": [
    "def Set_parent(root):\n",
    "    if root.children:\n",
    "        for n in root.children:\n",
    "            n.parent = root\n",
    "            Set_parent(n)"
   ]
  },
  {
   "cell_type": "code",
   "execution_count": 5,
   "metadata": {},
   "outputs": [],
   "source": [
    "\n",
    "m = Node(3, None, 1, None)\n",
    "n = Node(3, None, 1, None)\n",
    "l = Node(2, [m], 1, None) \n",
    "f = Node(2, None, 1, None) \n",
    "g = Node(2, None, 1, None) \n",
    "h = Node(2, [n], 1, None)\n",
    "i = Node(2, None, 1, None)\n",
    "j = Node(2, None, 1, None)\n",
    "k = Node(2, None, 1, None)\n",
    "e = Node(1, [l,k,j], 3, None)\n",
    "b = Node(1, [f], 1, None)\n",
    "c = Node(1, [g, h], 2, None)\n",
    "d = Node(1, [i], 1, None)\n",
    "a = Node(0, [b,c,d,e], 7, (255,0,0)) "
   ]
  },
  {
   "cell_type": "code",
   "execution_count": 6,
   "metadata": {
    "collapsed": true
   },
   "outputs": [],
   "source": [
    "def Sunburst(root):\n",
    "    root.range = np.pi * 2\n",
    "    root.right_bound = 0\n",
    "    glyph = AnnularWedge(x=10, y=10, inner_radius=0, outer_radius=(root.width),\n",
    "                                     start_angle=n.right_bound, end_angle=np.pi * 2, fill_color= root.color, line_alpha=0, fill_alpha= 0.7)\n",
    "    plot.add_glyph(source, glyph)\n",
    "    DFS_visit(root)   "
   ]
  },
  {
   "cell_type": "code",
   "execution_count": 7,
   "metadata": {
    "collapsed": true
   },
   "outputs": [],
   "source": [
    "Set_parent(a)"
   ]
  },
  {
   "cell_type": "code",
   "execution_count": 8,
   "metadata": {},
   "outputs": [],
   "source": [
    "source = ColumnDataSource()\n",
    "\n",
    "xdr = DataRange1d(start=5, end=15)\n",
    "ydr = DataRange1d(start=5, end=15)\n",
    "\n",
    "plot = figure(title=None, x_range=xdr, y_range=ydr, plot_width=320, plot_height=300,\n",
    "           h_symmetry=False, v_symmetry=False, min_border=0, tools=\"pan,wheel_zoom,box_zoom,reset,save,lasso_select,box_select,hover\")\n",
    "\n",
    "\n",
    "Sunburst(a)\n",
    "\n",
    "curdoc().add_root(plot)\n",
    "\n",
    "show(plot)"
   ]
  },
  {
   "cell_type": "code",
   "execution_count": null,
   "metadata": {
    "collapsed": true
   },
   "outputs": [],
   "source": []
  },
  {
   "cell_type": "code",
   "execution_count": null,
   "metadata": {
    "collapsed": true
   },
   "outputs": [],
   "source": []
  }
 ],
 "metadata": {
  "kernelspec": {
   "display_name": "Python 3",
   "language": "python",
   "name": "python3"
  },
  "language_info": {
   "codemirror_mode": {
    "name": "ipython",
    "version": 3
   },
   "file_extension": ".py",
   "mimetype": "text/x-python",
   "name": "python",
   "nbconvert_exporter": "python",
   "pygments_lexer": "ipython3",
   "version": "3.6.1"
  }
 },
 "nbformat": 4,
 "nbformat_minor": 2
}
