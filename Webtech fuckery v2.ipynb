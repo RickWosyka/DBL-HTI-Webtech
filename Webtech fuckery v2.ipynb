{
 "cells": [
  {
   "cell_type": "code",
   "execution_count": 1,
   "metadata": {},
   "outputs": [],
   "source": [
    "import numpy as np\n",
    "\n",
    "from bokeh.models import ColumnDataSource, DataRange1d\n",
    "from bokeh.models.glyphs import AnnularWedge, Ellipse, Quad\n",
    "from bokeh.io import curdoc, show\n",
    "from bokeh.plotting import figure\n",
    "import queue\n",
    "\n",
    "\n",
    "open_space_top = 0\n",
    "open_space_bottom = 0\n",
    "open_space_left = 0\n",
    "open_space_right = 0"
   ]
  },
  {
   "cell_type": "code",
   "execution_count": 2,
   "metadata": {},
   "outputs": [],
   "source": [
    "def Foamtree(node):\n",
    "    if node.children:\n",
    "        global open_space_left \n",
    "        global open_space_top\n",
    "        global open_space_bottom\n",
    "        global open_space_right\n",
    "        on_width = False\n",
    "        for n in node.children:\n",
    "            if not n.seen:\n",
    "                n.area = (n.leaves_subtree/ n.parent.leaves_subtree) * n.parent.area\n",
    "                if (np.roots(open_space_right**2 - open_space_left**2)) >= (np.roots(open_space_top**2 - open_space_bottom**2)):\n",
    "                    n.top = open_space_top\n",
    "                    n.bottom = open_space_bottom\n",
    "                    n.left = open_space_left\n",
    "                    n.right = (n.area / (n.top - n.bottom)) + n.left\n",
    "                    on_width = True\n",
    "                else:\n",
    "                    n.top = open_space_top\n",
    "                    n.left = open_space_left\n",
    "                    n.right = open_space_right\n",
    "                    n.bottom = (n.area / (n.right - n.left)) + n.top\n",
    "                    on_width = False\n",
    "                glyph = Quad(left=n.left, right=n.right, top=n.top, bottom=n.bottom, fill_color=n.color, fill_alpha = 0.5)\n",
    "                plot.add_glyph(source, glyph)\n",
    "                if on_width:\n",
    "                    open_space_left = n.right\n",
    "                else: \n",
    "                    open_space_top = n.bottom\n",
    "                Foamtree(n)\n",
    "            n.seen = True"
   ]
  },
  {
   "cell_type": "code",
   "execution_count": 3,
   "metadata": {},
   "outputs": [],
   "source": [
    "def Foamroot(root):\n",
    "    global open_space_left \n",
    "    global open_space_top\n",
    "    global open_space_bottom\n",
    "    global open_space_right\n",
    "    root.top = 14\n",
    "    root.bottom = 6\n",
    "    root.left = 6\n",
    "    root.right = 14\n",
    "    open_space_top = root.top\n",
    "    open_space_bottom = root.bottom\n",
    "    open_space_left = root.left\n",
    "    open_space_right = root.right\n",
    "    glyph = Quad(left=root.left, right=root.right, top=root.top, bottom=root.bottom, fill_color=root.color, fill_alpha = 0.5)\n",
    "    plot.add_glyph(source, glyph)\n",
    "    Foamtree(root)"
   ]
  },
  {
   "cell_type": "code",
   "execution_count": 4,
   "metadata": {
    "collapsed": true
   },
   "outputs": [],
   "source": [
    "class Node:\n",
    "    def __init__(self, level, children, leaves_subtree, color):\n",
    "        self.color = color\n",
    "        self.level = level\n",
    "        self.children = children\n",
    "        self.leaves_subtree = leaves_subtree\n",
    "        self.width = 1\n",
    "        self.range = 1\n",
    "        self.right_bound = 0\n",
    "        self.left_bound = 0\n",
    "        self.parent = None\n",
    "        self.seen = False\n",
    "        self.top = 0\n",
    "        self.bottom = 0\n",
    "        self.right = 0\n",
    "        self.left = 0\n",
    "        self.area = 0"
   ]
  },
  {
   "cell_type": "code",
   "execution_count": 5,
   "metadata": {
    "collapsed": true
   },
   "outputs": [],
   "source": [
    "def Set_parent(root):\n",
    "    if root.children:\n",
    "        for n in root.children:\n",
    "            n.parent = root\n",
    "            Set_parent(n)"
   ]
  },
  {
   "cell_type": "code",
   "execution_count": 6,
   "metadata": {
    "collapsed": true
   },
   "outputs": [],
   "source": [
    "def Reset(root):\n",
    "    if root.children:\n",
    "        for n in root.children:\n",
    "            n.seen = False\n",
    "            Reset(n)"
   ]
  },
  {
   "cell_type": "code",
   "execution_count": 7,
   "metadata": {},
   "outputs": [],
   "source": [
    "m = Node(3, None, 1, '#CDE6FF')\n",
    "n = Node(3, None, 1, '#860000')\n",
    "l = Node(2, [m], 1,'#75FFE7') \n",
    "f = Node(2, None, 1, '#191970') \n",
    "g = Node(2, None, 1, '#CD1076') \n",
    "h = Node(2, [n], 1, '#696969')\n",
    "i = Node(2, None, 1, '#83563C')\n",
    "j = Node(2, None, 1, '#F0F8FF')\n",
    "k = Node(2, None, 1, '#7B322C')\n",
    "e = Node(1, [l,k,j], 3, '#7F1AC4')\n",
    "b = Node(1, [f], 1, '#FFFF66')\n",
    "c = Node(1, [g, h], 2, '#FF758D')\n",
    "d = Node(1, [i], 1, '#81E9EF')\n",
    "a = Node(0, [b,c,d,e], 7, '#FF0000') "
   ]
  },
  {
   "cell_type": "code",
   "execution_count": 8,
   "metadata": {
    "collapsed": true
   },
   "outputs": [],
   "source": [
    "Set_parent(a)"
   ]
  },
  {
   "cell_type": "code",
   "execution_count": 9,
   "metadata": {},
   "outputs": [],
   "source": [
    "source = ColumnDataSource()\n",
    "\n",
    "xdr = DataRange1d(start=5, end=15)\n",
    "ydr = DataRange1d(start=5, end=15)\n",
    "\n",
    "plot = figure(title=None, x_range=xdr, y_range=ydr, plot_width=320, plot_height=300,\n",
    "              h_symmetry=False, v_symmetry=False, min_border=0, \n",
    "              tools=\"pan,wheel_zoom,box_zoom,reset,save,lasso_select,box_select,hover\")\n",
    "\n",
    "\n",
    "Foamroot(a)\n",
    "\n",
    "curdoc().add_root(plot)\n",
    "\n",
    "show(plot)\n",
    "Reset(a)"
   ]
  }
 ],
 "metadata": {
  "kernelspec": {
   "display_name": "Python 3",
   "language": "python",
   "name": "python3"
  },
  "language_info": {
   "codemirror_mode": {
    "name": "ipython",
    "version": 3
   },
   "file_extension": ".py",
   "mimetype": "text/x-python",
   "name": "python",
   "nbconvert_exporter": "python",
   "pygments_lexer": "ipython3",
   "version": "3.6.1"
  }
 },
 "nbformat": 4,
 "nbformat_minor": 2
}
